{
 "cells": [
  {
   "cell_type": "markdown",
   "id": "8ca54a26",
   "metadata": {},
   "source": [
    "### Исследование файла и уравнений"
   ]
  },
  {
   "cell_type": "code",
   "execution_count": 1,
   "id": "5dd1446f",
   "metadata": {},
   "outputs": [
    {
     "name": "stdout",
     "output_type": "stream",
     "text": [
      "Ag cr REF ELEMENT T 6/12AG 1.   0.   0.   0.S   200.000  1235.080 1000.        1\n",
      "\n",
      " 2.07216824E+00 2.46393729E-03-1.34351116E-06 3.69321107E-10 0.00000000E+00    2\n",
      "\n",
      "-6.37725170E+02-7.18810718E+00 2.25225065E+00 5.43263008E-03-1.32153990E-05    3\n",
      "\n",
      " 1.50423505E-08-5.94991675E-12-8.23132027E+02-8.86835190E+00 0.00000000E+00    4\n",
      "\n"
     ]
    }
   ],
   "source": [
    "with open(\"THERM.DAT\", \"r\", encoding=\"UTF-8\") as file:\n",
    "        head = [next(file) for x in range(4)]\n",
    "        for line in head:\n",
    "            print(line)"
   ]
  },
  {
   "cell_type": "markdown",
   "id": "4707b7bd",
   "metadata": {},
   "source": [
    "### Задача: распарсить файл по принципу:\n",
    "\n",
    "`{\"Ag\" : [2.07216824E+00, 2.46393729E-03, -1.34351116E-06, 3.69321107E-10, 0.00000000E+00, -6.37725170E+02, -7.18810718E+00, 2.25225065E+00, 5.43263008E-03, -1.32153990E-05, 1.50423505E-08, -5.94991675E-12, -8.23132027E+02, -8.86835190E+00, 0.00000000E+00]}`"
   ]
  },
  {
   "cell_type": "code",
   "execution_count": 2,
   "id": "38206e66",
   "metadata": {},
   "outputs": [],
   "source": [
    "import json"
   ]
  },
  {
   "cell_type": "code",
   "execution_count": 3,
   "id": "2944b471",
   "metadata": {},
   "outputs": [],
   "source": [
    "def read_four_lines(f):\n",
    "    first = f.readline()\n",
    "    second = f.readline()\n",
    "    third = f.readline()\n",
    "    fourth = f.readline()\n",
    "    return (first, second, third, fourth)"
   ]
  },
  {
   "cell_type": "code",
   "execution_count": 4,
   "id": "5a7562ca",
   "metadata": {},
   "outputs": [],
   "source": [
    "def parse_quadruple(q):\n",
    "    element = q[0][0:q[0].index(' ')] #Надо очистить это от лишних символов (1,2-C2H2F2-cis)\n",
    "    element = element.replace(\"*\", \"\").replace(\"=\", \"\")\n",
    "    i1 = element.find(\"-\")\n",
    "    if i1 != -1:\n",
    "        element = element[i1:]\n",
    "    i2 = element.find(\"-\")\n",
    "    if i2 != -1:\n",
    "        element = element[:i2]\n",
    "    #C2H2F2\n",
    "    meta = q[0][18:26]\n",
    "    full_name = q[0][0:17].strip()\n",
    "    coefs = []\n",
    "    stride = 15\n",
    "    for i in range(1, 4):\n",
    "        for j in range(0, 5):\n",
    "            raw_data = q[i][j*stride:(j+1)*stride]\n",
    "            try:\n",
    "                data = float(raw_data)\n",
    "            except ValueError:\n",
    "                data = float(0)\n",
    "            coefs += [data]\n",
    "    element_data = {element : {\"coeffs\" : coefs, \"full_name\" : full_name, \"meta\" : meta}}\n",
    "    return element_data"
   ]
  },
  {
   "cell_type": "code",
   "execution_count": 5,
   "id": "3224f4e5",
   "metadata": {},
   "outputs": [
    {
     "name": "stdout",
     "output_type": "stream",
     "text": [
      "{'Ag': {'coeffs': [2.07216824, 0.00246393729, -1.34351116e-06, 3.69321107e-10, 0.0, -637.72517, -7.18810718, 2.25225065, 0.00543263008, -1.3215399e-05, 1.50423505e-08, -5.94991675e-12, -823.132027, -8.8683519, 0.0], 'full_name': 'Ag cr REF ELEMENT', 'meta': 'T 6/12AG'}}\n"
     ]
    }
   ],
   "source": [
    "with open(\"THERM.DAT\", \"r\", encoding=\"UTF-8\") as file:\n",
    "    q = read_four_lines(file)\n",
    "    print(parse_quadruple(q))"
   ]
  },
  {
   "cell_type": "code",
   "execution_count": 6,
   "id": "c7527baf",
   "metadata": {},
   "outputs": [],
   "source": [
    "result = {}\n",
    "with open(\"THERM.DAT\", \"r\", encoding=\"UTF-8\") as file:\n",
    "    for i in range(0, 2972): #Я вручную посчитал сколько там должно быть элементов\n",
    "        q = read_four_lines(file)\n",
    "        buf = parse_quadruple(q)\n",
    "        result.update(buf)\n",
    "parsed_to_json = json.dumps(result, indent=4)"
   ]
  },
  {
   "cell_type": "code",
   "execution_count": 7,
   "id": "2fa176a7",
   "metadata": {},
   "outputs": [
    {
     "name": "stdout",
     "output_type": "stream",
     "text": [
      "{'coeffs': [2.93286575, 0.000826608026, -1.46402364e-07, 1.54100414e-11, -6.888048e-16, -813.065581, -1.02432865, 2.34433112, 0.00798052075, -1.9478151e-05, 2.01572094e-08, -7.37611761e-12, -917.935173, 0.683010238, 0.0], 'full_name': 'H2 REF ELEMENT', 'meta': 'tpis78H '}\n"
     ]
    }
   ],
   "source": [
    "print(result[\"H2\"])"
   ]
  },
  {
   "cell_type": "code",
   "execution_count": 8,
   "id": "dc4aae59",
   "metadata": {},
   "outputs": [],
   "source": [
    "with open(\"parsed.json\", \"w\", encoding=\"UTF-8\") as file:\n",
    "    file.write(parsed_to_json)"
   ]
  },
  {
   "cell_type": "markdown",
   "id": "7310d836",
   "metadata": {},
   "source": [
    "Повторение примера из презентации"
   ]
  },
  {
   "cell_type": "raw",
   "id": "5bb4d927",
   "metadata": {},
   "source": [
    " H2 + N54.63O14.67;  соотношение 1 к 34.5 (α = 1); O, O2, H, H2, OH, H2O, N2, NO"
   ]
  },
  {
   "cell_type": "markdown",
   "id": "58ed3abb",
   "metadata": {},
   "source": [
    "Материальная независимость:\n",
    "    O O2 H H2 OH H 2O N2 NO"
   ]
  },
  {
   "cell_type": "code",
   "execution_count": 9,
   "id": "c864b96a",
   "metadata": {},
   "outputs": [],
   "source": [
    "a = [[1, 2, 0, 0, 1, 1, 0, 1],\n",
    "      [0, 0, 1, 2, 1, 2, 0, 0],\n",
    "      [0, 0, 0, 0, 0, 0, 2, 1]]"
   ]
  },
  {
   "cell_type": "code",
   "execution_count": 10,
   "id": "7ac8d2f1",
   "metadata": {},
   "outputs": [],
   "source": [
    "b = [[14.258],\n",
    "     [27.948],\n",
    "     [53.097]]"
   ]
  },
  {
   "cell_type": "markdown",
   "id": "c9900780",
   "metadata": {},
   "source": [
    "(Разделить элементы и их количества)"
   ]
  },
  {
   "cell_type": "code",
   "execution_count": 11,
   "id": "42f45ac8",
   "metadata": {},
   "outputs": [],
   "source": [
    "formulas = [\"O\", \"O2\", \"H\", \"H2\", \"OH\", \"H2O\", \"N2\", \"NO\"]"
   ]
  },
  {
   "cell_type": "code",
   "execution_count": 12,
   "id": "6d9c2590",
   "metadata": {},
   "outputs": [],
   "source": [
    "from chemparse import parse_formula"
   ]
  },
  {
   "cell_type": "code",
   "execution_count": 13,
   "id": "fbf24bcc",
   "metadata": {},
   "outputs": [],
   "source": [
    "parsed_formulas = [parse_formula(x) for x in formulas]"
   ]
  },
  {
   "cell_type": "markdown",
   "id": "e3cd2e51",
   "metadata": {},
   "source": [
    "(Вычисление масс для смесей)"
   ]
  },
  {
   "cell_type": "code",
   "execution_count": 14,
   "id": "46ca80f3",
   "metadata": {},
   "outputs": [],
   "source": [
    "import mendeleev"
   ]
  },
  {
   "cell_type": "code",
   "execution_count": 15,
   "id": "b02a1315",
   "metadata": {},
   "outputs": [],
   "source": [
    "masses = []\n",
    "for formula in parsed_formulas:\n",
    "    mass = 0\n",
    "    for atom, count in formula.items():\n",
    "        mass += mendeleev.element(atom).atomic_weight * count\n",
    "    masses += [mass]"
   ]
  },
  {
   "cell_type": "code",
   "execution_count": 16,
   "id": "d6452c8c",
   "metadata": {},
   "outputs": [
    {
     "name": "stdout",
     "output_type": "stream",
     "text": [
      "[15.999, 31.998, 1.008, 2.016, 17.007, 18.015, 28.014, 30.006]\n"
     ]
    }
   ],
   "source": [
    "print(masses)"
   ]
  },
  {
   "cell_type": "markdown",
   "id": "83d91eb1",
   "metadata": {},
   "source": [
    "(Вычисление газовых постоянных)"
   ]
  },
  {
   "cell_type": "code",
   "execution_count": 17,
   "id": "422ec674",
   "metadata": {},
   "outputs": [],
   "source": [
    "R0 = 8.31446261815324e3"
   ]
  },
  {
   "cell_type": "code",
   "execution_count": 18,
   "id": "e80de565",
   "metadata": {},
   "outputs": [],
   "source": [
    "R = [R0/x for x in masses]"
   ]
  },
  {
   "cell_type": "code",
   "execution_count": 19,
   "id": "f5ef986c",
   "metadata": {},
   "outputs": [
    {
     "name": "stdout",
     "output_type": "stream",
     "text": [
      "[519.6863940342047, 259.84319701710234, 8248.47481959647, 4124.237409798235, 488.88473088453225, 461.52998157941937, 296.7966951578939, 277.09333527138705]\n"
     ]
    }
   ],
   "source": [
    "print(R)"
   ]
  },
  {
   "cell_type": "markdown",
   "id": "523ba080",
   "metadata": {},
   "source": [
    "Уравнение состояния:"
   ]
  },
  {
   "cell_type": "markdown",
   "id": "16206d55",
   "metadata": {},
   "source": [
    "Моделируется случай при заданных p, I: нагрев рабочего тела (горение топлива) при заданном давлении"
   ]
  },
  {
   "cell_type": "code",
   "execution_count": 20,
   "id": "7c3651d6",
   "metadata": {},
   "outputs": [],
   "source": [
    "p = 5e6\n",
    "T = 3200\n",
    "m = 1\n",
    "v = 1"
   ]
  },
  {
   "cell_type": "code",
   "execution_count": 21,
   "id": "103ac978",
   "metadata": {},
   "outputs": [],
   "source": [
    "pv = p* v"
   ]
  },
  {
   "cell_type": "code",
   "execution_count": 22,
   "id": "318c84b7",
   "metadata": {},
   "outputs": [],
   "source": [
    "import numpy as np"
   ]
  },
  {
   "cell_type": "code",
   "execution_count": 23,
   "id": "3729d8d8",
   "metadata": {},
   "outputs": [],
   "source": [
    "coefs_state = [R_ * T for R_ in R] "
   ]
  },
  {
   "cell_type": "code",
   "execution_count": 24,
   "id": "ac92d96f",
   "metadata": {},
   "outputs": [],
   "source": [
    "coefs = np.array(a + [coefs_state])\n",
    "free_members = np.array(b + [[pv]])"
   ]
  },
  {
   "cell_type": "code",
   "execution_count": 25,
   "id": "2f7db310",
   "metadata": {},
   "outputs": [
    {
     "name": "stdout",
     "output_type": "stream",
     "text": [
      "[[1.00000000e+00 2.00000000e+00 0.00000000e+00 0.00000000e+00\n",
      "  1.00000000e+00 1.00000000e+00 0.00000000e+00 1.00000000e+00]\n",
      " [0.00000000e+00 0.00000000e+00 1.00000000e+00 2.00000000e+00\n",
      "  1.00000000e+00 2.00000000e+00 0.00000000e+00 0.00000000e+00]\n",
      " [0.00000000e+00 0.00000000e+00 0.00000000e+00 0.00000000e+00\n",
      "  0.00000000e+00 0.00000000e+00 2.00000000e+00 1.00000000e+00]\n",
      " [1.66299646e+06 8.31498230e+05 2.63951194e+07 1.31975597e+07\n",
      "  1.56443114e+06 1.47689594e+06 9.49749425e+05 8.86698673e+05]]\n",
      "[[1.4258e+01]\n",
      " [2.7948e+01]\n",
      " [5.3097e+01]\n",
      " [5.0000e+06]]\n"
     ]
    }
   ],
   "source": [
    "print(coefs, free_members, sep=\"\\n\")"
   ]
  },
  {
   "cell_type": "markdown",
   "id": "9b8dd33f",
   "metadata": {},
   "source": [
    "Решение модели (замена x на e^x, чтобы не было отрицательных значений)"
   ]
  },
  {
   "cell_type": "code",
   "execution_count": 26,
   "id": "b2b10ab7",
   "metadata": {},
   "outputs": [],
   "source": [
    "from scipy.special import softmax\n",
    "from scipy.optimize import fsolve, minimize, least_squares\n",
    "from scipy.linalg import norm"
   ]
  },
  {
   "cell_type": "code",
   "execution_count": 27,
   "id": "3c92a149",
   "metadata": {},
   "outputs": [],
   "source": [
    "def functions(inputs):\n",
    "    rows = [row * np.exp(inputs) for row in coefs]\n",
    "    result = np.array([np.sum(row) - free_member[0] for row, free_member in zip(rows, free_members)])\n",
    "    return result"
   ]
  },
  {
   "cell_type": "code",
   "execution_count": 28,
   "id": "69e08d6e",
   "metadata": {},
   "outputs": [
    {
     "name": "stdout",
     "output_type": "stream",
     "text": [
      "[0.02547542 0.06014482 0.00152436 0.00314312 0.03414176 0.04996831\n",
      " 0.70595511 0.11964709]\n"
     ]
    }
   ],
   "source": [
    "x = np.zeros((coefs.shape[1],))\n",
    "x = least_squares(functions, x)\n",
    "result_softmax = softmax(x.x)\n",
    "result_linear = x.x / norm(x.x)\n",
    "#print(x.x)\n",
    "print(result_softmax)\n",
    "#print(result_linear)"
   ]
  },
  {
   "cell_type": "code",
   "execution_count": 29,
   "id": "abc214e8",
   "metadata": {},
   "outputs": [],
   "source": [
    "known_coefs = [0.0012079, 0.0069651, 0.0037482, 0.0221819, 0.0108852, 0.3136454, 0.6375936, 0.0037636]"
   ]
  },
  {
   "cell_type": "code",
   "execution_count": 30,
   "id": "4c5cca9e",
   "metadata": {},
   "outputs": [],
   "source": [
    "corr = np.corrcoef(result_softmax, known_coefs)"
   ]
  },
  {
   "cell_type": "code",
   "execution_count": 31,
   "id": "dd3127f8",
   "metadata": {},
   "outputs": [
    {
     "name": "stdout",
     "output_type": "stream",
     "text": [
      "[[1.         0.88170261]\n",
      " [0.88170261 1.        ]]\n"
     ]
    }
   ],
   "source": [
    "print(corr)"
   ]
  },
  {
   "cell_type": "code",
   "execution_count": 33,
   "id": "034c9924",
   "metadata": {},
   "outputs": [],
   "source": [
    "from scipy import stats"
   ]
  },
  {
   "cell_type": "code",
   "execution_count": 34,
   "id": "cd0eda37",
   "metadata": {},
   "outputs": [
    {
     "name": "stdout",
     "output_type": "stream",
     "text": [
      "(0.8817026096083056, 0.0037802031885520553)\n"
     ]
    }
   ],
   "source": [
    "corr = stats.pearsonr(result_softmax, known_coefs)\n",
    "print(corr)"
   ]
  },
  {
   "cell_type": "markdown",
   "id": "c040f574",
   "metadata": {},
   "source": [
    "Коэффициент корелляции равен 0.8817, p-мера, показывающая достоверность корелляции равна 0.0037. Если p-мера меньше 0.05, то корелляция достоверна"
   ]
  },
  {
   "cell_type": "code",
   "execution_count": null,
   "id": "4ce60baf",
   "metadata": {},
   "outputs": [],
   "source": []
  }
 ],
 "metadata": {
  "kernelspec": {
   "display_name": "Python 3 (ipykernel)",
   "language": "python",
   "name": "python3"
  },
  "language_info": {
   "codemirror_mode": {
    "name": "ipython",
    "version": 3
   },
   "file_extension": ".py",
   "mimetype": "text/x-python",
   "name": "python",
   "nbconvert_exporter": "python",
   "pygments_lexer": "ipython3",
   "version": "3.11.0"
  }
 },
 "nbformat": 4,
 "nbformat_minor": 5
}
