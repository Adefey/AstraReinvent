{
 "cells": [
  {
   "cell_type": "markdown",
   "id": "8ca54a26",
   "metadata": {},
   "source": [
    "### Исследование файла и уравнений"
   ]
  },
  {
   "cell_type": "code",
   "execution_count": 1,
   "id": "5dd1446f",
   "metadata": {},
   "outputs": [
    {
     "name": "stdout",
     "output_type": "stream",
     "text": [
      "Ag cr REF ELEMENT T 6/12AG 1.   0.   0.   0.S   200.000  1235.080 1000.        1\n",
      "\n",
      " 2.07216824E+00 2.46393729E-03-1.34351116E-06 3.69321107E-10 0.00000000E+00    2\n",
      "\n",
      "-6.37725170E+02-7.18810718E+00 2.25225065E+00 5.43263008E-03-1.32153990E-05    3\n",
      "\n",
      " 1.50423505E-08-5.94991675E-12-8.23132027E+02-8.86835190E+00 0.00000000E+00    4\n",
      "\n"
     ]
    }
   ],
   "source": [
    "with open(\"THERM.DAT\", \"r\", encoding=\"UTF-8\") as file:\n",
    "        head = [next(file) for x in range(4)]\n",
    "        for line in head:\n",
    "            print(line)"
   ]
  },
  {
   "cell_type": "markdown",
   "id": "4707b7bd",
   "metadata": {},
   "source": [
    "### Задача: распарсить файл по принципу:\n",
    "\n",
    "`{\"Ag\" : [2.07216824E+00, 2.46393729E-03, -1.34351116E-06, 3.69321107E-10, 0.00000000E+00, -6.37725170E+02, -7.18810718E+00, 2.25225065E+00, 5.43263008E-03, -1.32153990E-05, 1.50423505E-08, -5.94991675E-12, -8.23132027E+02, -8.86835190E+00, 0.00000000E+00]}`"
   ]
  },
  {
   "cell_type": "code",
   "execution_count": 2,
   "id": "38206e66",
   "metadata": {},
   "outputs": [],
   "source": [
    "import json"
   ]
  },
  {
   "cell_type": "code",
   "execution_count": 3,
   "id": "2944b471",
   "metadata": {},
   "outputs": [],
   "source": [
    "def read_four_lines(f):\n",
    "    first = f.readline()\n",
    "    second = f.readline()\n",
    "    third = f.readline()\n",
    "    fourth = f.readline()\n",
    "    return (first, second, third, fourth)"
   ]
  },
  {
   "cell_type": "code",
   "execution_count": 4,
   "id": "5a7562ca",
   "metadata": {},
   "outputs": [],
   "source": [
    "def parse_quadruple(q):\n",
    "    element = q[0][0:q[0].index(' ')] #Надо очистить это от лишних символов (1,2-C2H2F2-cis)\n",
    "    element = element.replace(\"*\", \"\").replace(\"=\", \"\")\n",
    "    i1 = element.find(\"-\")\n",
    "    if i1 != -1:\n",
    "        element = element[i1:]\n",
    "    i2 = element.find(\"-\")\n",
    "    if i2 != -1:\n",
    "        element = element[:i2]\n",
    "    #C2H2F2\n",
    "    meta = q[0][18:26]\n",
    "    full_name = q[0][0:17].strip()\n",
    "    coefs = []\n",
    "    stride = 15\n",
    "    for i in range(1, 4):\n",
    "        for j in range(0, 5):\n",
    "            raw_data = q[i][j*stride:(j+1)*stride]\n",
    "            try:\n",
    "                data = float(raw_data)\n",
    "            except ValueError:\n",
    "                data = float(0)\n",
    "            coefs += [data]\n",
    "    element_data = {element : {\"coeffs\" : coefs, \"full_name\" : full_name, \"meta\" : meta}}\n",
    "    return element_data"
   ]
  },
  {
   "cell_type": "code",
   "execution_count": 5,
   "id": "3224f4e5",
   "metadata": {},
   "outputs": [
    {
     "name": "stdout",
     "output_type": "stream",
     "text": [
      "{'Ag': {'coeffs': [2.07216824, 0.00246393729, -1.34351116e-06, 3.69321107e-10, 0.0, -637.72517, -7.18810718, 2.25225065, 0.00543263008, -1.3215399e-05, 1.50423505e-08, -5.94991675e-12, -823.132027, -8.8683519, 0.0], 'full_name': 'Ag cr REF ELEMENT', 'meta': 'T 6/12AG'}}\n"
     ]
    }
   ],
   "source": [
    "with open(\"THERM.DAT\", \"r\", encoding=\"UTF-8\") as file:\n",
    "    q = read_four_lines(file)\n",
    "    print(parse_quadruple(q))"
   ]
  },
  {
   "cell_type": "code",
   "execution_count": 6,
   "id": "c7527baf",
   "metadata": {},
   "outputs": [],
   "source": [
    "result = {}\n",
    "with open(\"THERM.DAT\", \"r\", encoding=\"UTF-8\") as file:\n",
    "    for i in range(0, 2972): #Я вручную посчитал сколько там должно быть элементов\n",
    "        q = read_four_lines(file)\n",
    "        buf = parse_quadruple(q)\n",
    "        result.update(buf)\n",
    "parsed_to_json = json.dumps(result, indent=4)"
   ]
  },
  {
   "cell_type": "code",
   "execution_count": 7,
   "id": "2fa176a7",
   "metadata": {},
   "outputs": [
    {
     "name": "stdout",
     "output_type": "stream",
     "text": [
      "{'coeffs': [2.93286575, 0.000826608026, -1.46402364e-07, 1.54100414e-11, -6.888048e-16, -813.065581, -1.02432865, 2.34433112, 0.00798052075, -1.9478151e-05, 2.01572094e-08, -7.37611761e-12, -917.935173, 0.683010238, 0.0], 'full_name': 'H2 REF ELEMENT', 'meta': 'tpis78H '}\n"
     ]
    }
   ],
   "source": [
    "print(result[\"H2\"])"
   ]
  },
  {
   "cell_type": "code",
   "execution_count": 8,
   "id": "dc4aae59",
   "metadata": {},
   "outputs": [],
   "source": [
    "with open(\"parsed.json\", \"w\", encoding=\"UTF-8\") as file:\n",
    "    file.write(parsed_to_json)"
   ]
  },
  {
   "cell_type": "markdown",
   "id": "b5e39678",
   "metadata": {},
   "source": [
    "### Пример - H2 + N54.63O14.67"
   ]
  },
  {
   "cell_type": "code",
   "execution_count": 9,
   "id": "6fd613bc",
   "metadata": {},
   "outputs": [],
   "source": [
    "import sys\n",
    "sys.path.insert(0,'../src/')\n",
    "from astra import *"
   ]
  },
  {
   "cell_type": "code",
   "execution_count": 10,
   "id": "043a74f6",
   "metadata": {},
   "outputs": [],
   "source": [
    "astra = Astra(components=[\"H2\", \"N54.64O14.67\"])\n",
    "#a = Astra(components=[\"O14.258H27.949N53.097\"])"
   ]
  },
  {
   "cell_type": "code",
   "execution_count": 11,
   "id": "f4dc9a1b",
   "metadata": {},
   "outputs": [
    {
     "name": "stdout",
     "output_type": "stream",
     "text": [
      "[('H', 2.0)]\n",
      "[('N', 54.64), ('O', 14.67)]\n"
     ]
    }
   ],
   "source": [
    "for component in astra.components:\n",
    "    print(component)"
   ]
  },
  {
   "cell_type": "code",
   "execution_count": 12,
   "id": "1135cd56",
   "metadata": {},
   "outputs": [
    {
     "name": "stdout",
     "output_type": "stream",
     "text": [
      "[('N', 54.64), ('H', 2.0), ('O', 14.67)]\n"
     ]
    }
   ],
   "source": [
    "print(astra.product)"
   ]
  },
  {
   "cell_type": "code",
   "execution_count": 13,
   "id": "391dc1a2",
   "metadata": {},
   "outputs": [
    {
     "name": "stdout",
     "output_type": "stream",
     "text": [
      "{'N', 'H', 'O'}\n"
     ]
    }
   ],
   "source": [
    "print(astra.product_elements)"
   ]
  },
  {
   "cell_type": "markdown",
   "id": "bb26fdbb",
   "metadata": {},
   "source": [
    "### Задача: выбрать из того файла все компоненты, у которых встречается в формуле любое из веществ выше, но нет других веществ"
   ]
  },
  {
   "cell_type": "code",
   "execution_count": 14,
   "id": "123dd4be",
   "metadata": {},
   "outputs": [],
   "source": [
    "with open(\"parsed.json\", \"r\", encoding=\"UTF-8\") as file:\n",
    "    text = file.read()\n",
    "data = json.loads(text)"
   ]
  },
  {
   "cell_type": "code",
   "execution_count": 15,
   "id": "2f2ef9e9",
   "metadata": {},
   "outputs": [
    {
     "name": "stdout",
     "output_type": "stream",
     "text": [
      "{'H'}\n",
      "{'N', 'H', 'O'}\n",
      "{'N', 'H', 'O'}\n",
      "{'O', 'H', 'N'}\n",
      "{'N', 'H', 'O'}\n",
      "{'N', 'H', 'O'}\n",
      "{'O', 'H'}\n",
      "{'O', 'H'}\n",
      "{'O', 'H'}\n",
      "{'H'}\n",
      "{'O', 'H'}\n",
      "{'O', 'H'}\n",
      "{'O', 'H'}\n",
      "{'N'}\n",
      "{'N', 'H'}\n",
      "{'N', 'H', 'O'}\n",
      "{'O', 'H', 'N'}\n",
      "{'N', 'H'}\n",
      "{'N', 'H', 'O'}\n",
      "{'N', 'H', 'O'}\n",
      "{'N', 'H'}\n",
      "{'N', 'H', 'O'}\n",
      "{'N', 'O'}\n",
      "{'N', 'O'}\n",
      "{'N', 'O'}\n",
      "{'N', 'O'}\n",
      "{'N'}\n",
      "{'N', 'H'}\n",
      "{'N', 'H'}\n",
      "{'N', 'H', 'O'}\n",
      "{'N', 'H', 'O'}\n",
      "{'N', 'H'}\n",
      "{'N', 'H'}\n",
      "{'N', 'H', 'O'}\n",
      "{'N', 'O'}\n",
      "{'N', 'O'}\n",
      "{'N', 'H', 'O'}\n",
      "{'N', 'O'}\n",
      "{'N', 'O'}\n",
      "{'N', 'O'}\n",
      "{'N'}\n",
      "{'N', 'H'}\n",
      "{'N', 'H', 'O'}\n",
      "{'N'}\n",
      "{'O'}\n",
      "{'O'}\n",
      "{'O'}\n",
      "{'O'}\n"
     ]
    }
   ],
   "source": [
    "selected_elements = []\n",
    "for key in data:\n",
    "    table_elements = set(parse_to_element_list(key))\n",
    "    my_elements = set(astra.product_elements)\n",
    "    if table_elements.issubset(my_elements) and len(table_elements) != 0:\n",
    "        print(table_elements)\n",
    "        selected_elements += [key]"
   ]
  },
  {
   "cell_type": "code",
   "execution_count": 16,
   "id": "5322042b",
   "metadata": {},
   "outputs": [
    {
     "name": "stdout",
     "output_type": "stream",
     "text": [
      "['H', 'HNO', 'HNO2', 'HONO', 'HNO3', 'HNO4', 'OH', 'HO2', 'HO3', 'H2', 'H2O', 'H2O2', 'HOOOH', 'N', 'NH', 'NOH', 'HOONO', 'NH2', 'NH2O', 'HNOH', 'NH3', 'NH2OH', 'NO', 'NO2', 'NOO', 'NO3', 'N2', 'N2H', 'N2H2', 'H2N2O', 'N2H2O2', 'N2H3', 'N2H4', 'NH4NO3', 'N2O', 'N2O2', 'HN2O2', 'N2O3', 'N2O4', 'N2O5', 'N3', 'N3H', 'HN3O4', 'N4', 'O', 'O2', 'O3', 'O4']\n"
     ]
    }
   ],
   "source": [
    "print(selected_elements)"
   ]
  },
  {
   "cell_type": "code",
   "execution_count": 17,
   "id": "7e2eae27",
   "metadata": {
    "scrolled": true
   },
   "outputs": [
    {
     "name": "stdout",
     "output_type": "stream",
     "text": [
      "[('H', 1.0)]\n",
      "[('H', 1.0), ('N', 1.0), ('O', 1.0)]\n",
      "[('H', 1.0), ('N', 1.0), ('O', 2.0)]\n",
      "[('H', 1.0), ('O', 2.0), ('N', 1.0)]\n",
      "[('H', 1.0), ('N', 1.0), ('O', 3.0)]\n",
      "[('H', 1.0), ('N', 1.0), ('O', 4.0)]\n",
      "[('O', 1.0), ('H', 1.0)]\n",
      "[('H', 1.0), ('O', 2.0)]\n",
      "[('H', 1.0), ('O', 3.0)]\n",
      "[('H', 2.0)]\n",
      "[('H', 2.0), ('O', 1.0)]\n",
      "[('H', 2.0), ('O', 2.0)]\n",
      "[('H', 2.0), ('O', 3.0)]\n",
      "[('N', 1.0)]\n",
      "[('N', 1.0), ('H', 1.0)]\n",
      "[('N', 1.0), ('O', 1.0), ('H', 1.0)]\n",
      "[('H', 1.0), ('O', 3.0), ('N', 1.0)]\n",
      "[('N', 1.0), ('H', 2.0)]\n",
      "[('N', 1.0), ('H', 2.0), ('O', 1.0)]\n",
      "[('H', 2.0), ('N', 1.0), ('O', 1.0)]\n",
      "[('N', 1.0), ('H', 3.0)]\n",
      "[('N', 1.0), ('H', 3.0), ('O', 1.0)]\n",
      "[('N', 1.0), ('O', 1.0)]\n",
      "[('N', 1.0), ('O', 2.0)]\n",
      "[('N', 1.0), ('O', 2.0)]\n",
      "[('N', 1.0), ('O', 3.0)]\n",
      "[('N', 2.0)]\n",
      "[('N', 2.0), ('H', 1.0)]\n",
      "[('N', 2.0), ('H', 2.0)]\n",
      "[('H', 2.0), ('N', 2.0), ('O', 1.0)]\n",
      "[('N', 2.0), ('H', 2.0), ('O', 2.0)]\n",
      "[('N', 2.0), ('H', 3.0)]\n",
      "[('N', 2.0), ('H', 4.0)]\n",
      "[('N', 2.0), ('H', 4.0), ('O', 3.0)]\n",
      "[('N', 2.0), ('O', 1.0)]\n",
      "[('N', 2.0), ('O', 2.0)]\n",
      "[('H', 1.0), ('N', 2.0), ('O', 2.0)]\n",
      "[('N', 2.0), ('O', 3.0)]\n",
      "[('N', 2.0), ('O', 4.0)]\n",
      "[('N', 2.0), ('O', 5.0)]\n",
      "[('N', 3.0)]\n",
      "[('N', 3.0), ('H', 1.0)]\n",
      "[('H', 1.0), ('N', 3.0), ('O', 4.0)]\n",
      "[('N', 4.0)]\n",
      "[('O', 1.0)]\n",
      "[('O', 2.0)]\n",
      "[('O', 3.0)]\n",
      "[('O', 4.0)]\n"
     ]
    }
   ],
   "source": [
    "selected_elements_formulas = [parse_to_list(x) for x in selected_elements]\n",
    "for selected_element in selected_elements_formulas:\n",
    "    print(selected_element)"
   ]
  },
  {
   "cell_type": "markdown",
   "id": "cbb58976",
   "metadata": {},
   "source": [
    "### Задача: составить матрицу как в презентации"
   ]
  },
  {
   "cell_type": "code",
   "execution_count": 18,
   "id": "9d81cb01",
   "metadata": {},
   "outputs": [],
   "source": [
    "import numpy as np"
   ]
  },
  {
   "cell_type": "code",
   "execution_count": 19,
   "id": "892d4d85",
   "metadata": {},
   "outputs": [],
   "source": [
    "b = np.array([x[1] for x in astra.product]).reshape(-1,1)"
   ]
  },
  {
   "cell_type": "code",
   "execution_count": 20,
   "id": "80ff6524",
   "metadata": {},
   "outputs": [
    {
     "data": {
      "text/plain": [
       "array([[54.64],\n",
       "       [ 2.  ],\n",
       "       [14.67]])"
      ]
     },
     "execution_count": 20,
     "metadata": {},
     "output_type": "execute_result"
    }
   ],
   "source": [
    "b # H O N"
   ]
  },
  {
   "cell_type": "code",
   "execution_count": 21,
   "id": "aeb9ee66",
   "metadata": {},
   "outputs": [],
   "source": [
    "def find(l, value):\n",
    "    try:\n",
    "        index = l.index(value)\n",
    "    except ValueError:\n",
    "        index  = -1 \n",
    "    return index\n",
    "\n",
    "\n",
    "def make_line(component, product):\n",
    "    row = []\n",
    "    component_elements = [x[0] for x in component]\n",
    "    for element, quantity in product:\n",
    "        ind = find(component_elements, element)\n",
    "        if ind!=-1:\n",
    "            row += [component[ind][1]]\n",
    "        else:\n",
    "            row += [0]        \n",
    "    return np.array(row)\n",
    "            "
   ]
  },
  {
   "cell_type": "code",
   "execution_count": 22,
   "id": "f7288049",
   "metadata": {},
   "outputs": [
    {
     "name": "stdout",
     "output_type": "stream",
     "text": [
      "[1. 1. 2.]\n"
     ]
    }
   ],
   "source": [
    "print(make_line(selected_elements_formulas[2], astra.product))"
   ]
  },
  {
   "cell_type": "code",
   "execution_count": 23,
   "id": "1b3f3daa",
   "metadata": {},
   "outputs": [],
   "source": [
    "a = np.array([make_line(x, astra.product) for x in selected_elements_formulas]).T\n",
    "#Не хватает еще уравнения состояния"
   ]
  },
  {
   "cell_type": "code",
   "execution_count": 24,
   "id": "0f65daa7",
   "metadata": {},
   "outputs": [
    {
     "name": "stdout",
     "output_type": "stream",
     "text": [
      "[[0. 1. 1. 1. 1. 1. 0. 0. 0. 0. 0. 0. 0. 1. 1. 1. 1. 1. 1. 1. 1. 1. 1. 1.\n",
      "  1. 1. 2. 2. 2. 2. 2. 2. 2. 2. 2. 2. 2. 2. 2. 2. 3. 3. 3. 4. 0. 0. 0. 0.]\n",
      " [1. 1. 1. 1. 1. 1. 1. 1. 1. 2. 2. 2. 2. 0. 1. 1. 1. 2. 2. 2. 3. 3. 0. 0.\n",
      "  0. 0. 0. 1. 2. 2. 2. 3. 4. 4. 0. 0. 1. 0. 0. 0. 0. 1. 1. 0. 0. 0. 0. 0.]\n",
      " [0. 1. 2. 2. 3. 4. 1. 2. 3. 0. 1. 2. 3. 0. 0. 1. 3. 0. 1. 1. 0. 1. 1. 2.\n",
      "  2. 3. 0. 0. 0. 1. 2. 0. 0. 3. 1. 2. 2. 3. 4. 5. 0. 0. 4. 0. 1. 2. 3. 4.]]\n"
     ]
    }
   ],
   "source": [
    "print(a) "
   ]
  },
  {
   "cell_type": "markdown",
   "id": "d85db73a",
   "metadata": {},
   "source": [
    "### Задача решить систему `matrix b`"
   ]
  },
  {
   "cell_type": "code",
   "execution_count": 25,
   "id": "8bb1ea2f",
   "metadata": {},
   "outputs": [],
   "source": [
    "from numpy.linalg import lstsq"
   ]
  },
  {
   "cell_type": "code",
   "execution_count": 26,
   "id": "7da0a6ce",
   "metadata": {},
   "outputs": [],
   "source": [
    "x = lstsq(a, b, rcond=-1)"
   ]
  },
  {
   "cell_type": "code",
   "execution_count": 27,
   "id": "5fc79713",
   "metadata": {},
   "outputs": [
    {
     "data": {
      "text/plain": [
       "(array([[-0.31920761],\n",
       "        [ 0.28760684],\n",
       "        [ 0.16035697],\n",
       "        [ 0.16035697],\n",
       "        [ 0.0331071 ],\n",
       "        [-0.09414278],\n",
       "        [-0.44645748],\n",
       "        [-0.57370736],\n",
       "        [-0.70095723],\n",
       "        [-0.63841522],\n",
       "        [-0.76566509],\n",
       "        [-0.89291497],\n",
       "        [-1.02016484],\n",
       "        [ 0.73406433],\n",
       "        [ 0.41485672],\n",
       "        [ 0.28760684],\n",
       "        [ 0.0331071 ],\n",
       "        [ 0.09564911],\n",
       "        [-0.03160077],\n",
       "        [-0.03160077],\n",
       "        [-0.2235585 ],\n",
       "        [-0.35080838],\n",
       "        [ 0.60681445],\n",
       "        [ 0.47956458],\n",
       "        [ 0.47956458],\n",
       "        [ 0.35231471],\n",
       "        [ 1.46812865],\n",
       "        [ 1.14892104],\n",
       "        [ 0.82971343],\n",
       "        [ 0.70246356],\n",
       "        [ 0.57521369],\n",
       "        [ 0.51050582],\n",
       "        [ 0.19129821],\n",
       "        [-0.19045141],\n",
       "        [ 1.34087878],\n",
       "        [ 1.21362891],\n",
       "        [ 0.8944213 ],\n",
       "        [ 1.08637903],\n",
       "        [ 0.95912916],\n",
       "        [ 0.83187929],\n",
       "        [ 2.20219298],\n",
       "        [ 1.88298537],\n",
       "        [ 1.37398588],\n",
       "        [ 2.93625731],\n",
       "        [-0.12724987],\n",
       "        [-0.25449975],\n",
       "        [-0.38174962],\n",
       "        [-0.50899949]]),\n",
       " array([], dtype=float64),\n",
       " 3,\n",
       " array([17.42929573,  9.51649753,  7.04669606]))"
      ]
     },
     "execution_count": 27,
     "metadata": {},
     "output_type": "execute_result"
    }
   ],
   "source": [
    "x"
   ]
  },
  {
   "cell_type": "code",
   "execution_count": 28,
   "id": "e02db511",
   "metadata": {},
   "outputs": [
    {
     "data": {
      "text/plain": [
       "array([[-0.31920761],\n",
       "       [ 0.28760684],\n",
       "       [ 0.16035697],\n",
       "       [ 0.16035697],\n",
       "       [ 0.0331071 ],\n",
       "       [-0.09414278],\n",
       "       [-0.44645748],\n",
       "       [-0.57370736],\n",
       "       [-0.70095723],\n",
       "       [-0.63841522],\n",
       "       [-0.76566509],\n",
       "       [-0.89291497],\n",
       "       [-1.02016484],\n",
       "       [ 0.73406433],\n",
       "       [ 0.41485672],\n",
       "       [ 0.28760684],\n",
       "       [ 0.0331071 ],\n",
       "       [ 0.09564911],\n",
       "       [-0.03160077],\n",
       "       [-0.03160077],\n",
       "       [-0.2235585 ],\n",
       "       [-0.35080838],\n",
       "       [ 0.60681445],\n",
       "       [ 0.47956458],\n",
       "       [ 0.47956458],\n",
       "       [ 0.35231471],\n",
       "       [ 1.46812865],\n",
       "       [ 1.14892104],\n",
       "       [ 0.82971343],\n",
       "       [ 0.70246356],\n",
       "       [ 0.57521369],\n",
       "       [ 0.51050582],\n",
       "       [ 0.19129821],\n",
       "       [-0.19045141],\n",
       "       [ 1.34087878],\n",
       "       [ 1.21362891],\n",
       "       [ 0.8944213 ],\n",
       "       [ 1.08637903],\n",
       "       [ 0.95912916],\n",
       "       [ 0.83187929],\n",
       "       [ 2.20219298],\n",
       "       [ 1.88298537],\n",
       "       [ 1.37398588],\n",
       "       [ 2.93625731],\n",
       "       [-0.12724987],\n",
       "       [-0.25449975],\n",
       "       [-0.38174962],\n",
       "       [-0.50899949]])"
      ]
     },
     "execution_count": 28,
     "metadata": {},
     "output_type": "execute_result"
    }
   ],
   "source": [
    "x[0]"
   ]
  },
  {
   "cell_type": "code",
   "execution_count": 29,
   "id": "6f1febef",
   "metadata": {},
   "outputs": [
    {
     "name": "stdout",
     "output_type": "stream",
     "text": [
      "Проверка:  [[54.64]\n",
      " [ 2.  ]\n",
      " [14.67]]\n"
     ]
    }
   ],
   "source": [
    "print(\"Проверка: \", a @ x[0])"
   ]
  },
  {
   "cell_type": "code",
   "execution_count": 30,
   "id": "87556e4c",
   "metadata": {},
   "outputs": [],
   "source": [
    "elements_with_concentration = [(e, float(c)) for e, c in zip(selected_elements, x[0])]"
   ]
  },
  {
   "cell_type": "code",
   "execution_count": 31,
   "id": "57bd1b2e",
   "metadata": {},
   "outputs": [
    {
     "name": "stdout",
     "output_type": "stream",
     "text": [
      "('H', -0.31920761023286115)\n",
      "('HNO', 0.2876068436756128)\n",
      "('HNO2', 0.16035697031274182)\n",
      "('HONO', 0.16035697031274193)\n",
      "('HNO3', 0.033107096949872225)\n",
      "('HNO4', -0.09414277641299747)\n",
      "('OH', -0.4464574835957331)\n",
      "('HO2', -0.5737073569586029)\n",
      "('HO3', -0.7009572303214725)\n",
      "('H2', -0.6384152204657269)\n",
      "('H2O', -0.7656650938285966)\n",
      "('H2O2', -0.8929149671914662)\n",
      "('HOOOH', -1.020164840554336)\n",
      "('N', 0.7340643272713446)\n",
      "('NH', 0.41485671703848126)\n",
      "('NOH', 0.28760684367561157)\n",
      "('HOONO', 0.033107096949872225)\n",
      "('NH2', 0.09564910680561782)\n",
      "('NH2O', -0.03160076655725187)\n",
      "('HNOH', -0.03160076655725187)\n",
      "('NH3', -0.22355850342724554)\n",
      "('NH2OH', -0.3508083767901152)\n",
      "('NO', 0.606814453908475)\n",
      "('NO2', 0.4795645805456053)\n",
      "('NOO', 0.4795645805456053)\n",
      "('NO3', 0.3523147071827356)\n",
      "('N2', 1.4681286545426893)\n",
      "('N2H', 1.148921044309826)\n",
      "('N2H2', 0.8297134340769625)\n",
      "('H2N2O', 0.7024635607140929)\n",
      "('N2H2O2', 0.5752136873512231)\n",
      "('N2H3', 0.5105058238440991)\n",
      "('N2H4', 0.19129821361123567)\n",
      "('NH4NO3', -0.19045140647737335)\n",
      "('N2O', 1.3408787811798197)\n",
      "('N2O2', 1.21362890781695)\n",
      "('HN2O2', 0.8944212975840866)\n",
      "('N2O3', 1.0863790344540802)\n",
      "('N2O4', 0.9591291610912107)\n",
      "('N2O5', 0.831879287728341)\n",
      "('N3', 2.2021929818140342)\n",
      "('N3H', 1.8829853715811709)\n",
      "('HN3O4', 1.3739858781296923)\n",
      "('N4', 2.936257309085379)\n",
      "('O', -0.1272498733628697)\n",
      "('O2', -0.2544997467257394)\n",
      "('O3', -0.3817496200886091)\n",
      "('O4', -0.5089994934514788)\n"
     ]
    }
   ],
   "source": [
    "for ewc in elements_with_concentration:\n",
    "    print(ewc)"
   ]
  },
  {
   "cell_type": "markdown",
   "id": "89ebe717",
   "metadata": {},
   "source": [
    "### Итоги"
   ]
  },
  {
   "cell_type": "markdown",
   "id": "c3366170",
   "metadata": {},
   "source": [
    "1. Файл обработан следующим образом:\n",
    "     \n",
    "     1.1 С первой строки получена формула элемента. Формула очищена от знаков `=` и `*`, а также удалено все до `-` и после него\n",
    "     \n",
    "     1.2 Для каждой следующей строки читается по 15 символов и записываются в список\n",
    "     \n",
    "     1.3 Пара формула:массив записывается в словарь\n",
    "     \n",
    "     1.4 Пункты 1.1-1.3 повторяются для каждых четверок строк в файле\n",
    "     \n",
    "     1.5 Полученный большой словарь переводится в json-строку и сохраняется в файл\n",
    "     \n",
    "     Проблемы: Не знаю, насколько правильно так обрабатывать формулу, Некоторые формулы повторяются и старые значения перезаписываются новыми\n",
    "     \n",
    "2. Решение системы уравнений происходит по следующим этапам:\n",
    "    \n",
    "    2.1 В конструктор класса Astra передается список формул\n",
    "    \n",
    "    2.2 Формулы соединяются, у одинаковых атомов складывается количество, расчета на стехиометрию пока нет\n",
    "    \n",
    "    2.3 Из файла выбираются те формулы, набор атомы которых являются подмножеством набора атомов соединенной формулы\n",
    "    \n",
    "    2.4 Для каждого атома (из набора атомов соединенной формулы) для каждой выбранной формулы находится содержание этого атома в этой формуле. Для каждой формулы получается список, который потом соединяется в матрицу размером (m, n), где m - количество формул, n - количество атомов в соединенной формуле\n",
    "    \n",
    "    2.5 Матрица транспонируется\n",
    "    \n",
    "    2.6 Аналогичное действие с нахождением количеств атомов делается с соединенной формулой\n",
    "    \n",
    "    2.7 Список количеств атомов в соединенной формуле транспонируется\n",
    "    \n",
    "    2.8 Уравнение `a @ x = b` решается решателем numpy.linalg.lstsq\n",
    "    \n",
    "    Проблемы: Не считается стехиометрическое соотношение, Не используются коэффициенты из файла, В решении есть отрицательные числа (Наверное они должны быть положительные, это же концентрации?), Нет замыкающего уравнения состояния (Пока не знаю как его добавить)"
   ]
  },
  {
   "cell_type": "code",
   "execution_count": null,
   "id": "1d679762",
   "metadata": {},
   "outputs": [],
   "source": []
  }
 ],
 "metadata": {
  "kernelspec": {
   "display_name": "Python 3 (ipykernel)",
   "language": "python",
   "name": "python3"
  },
  "language_info": {
   "codemirror_mode": {
    "name": "ipython",
    "version": 3
   },
   "file_extension": ".py",
   "mimetype": "text/x-python",
   "name": "python",
   "nbconvert_exporter": "python",
   "pygments_lexer": "ipython3",
   "version": "3.10.7"
  }
 },
 "nbformat": 4,
 "nbformat_minor": 5
}
