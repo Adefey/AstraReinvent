{
 "cells": [
  {
   "cell_type": "code",
   "execution_count": 1,
   "id": "255348ff",
   "metadata": {},
   "outputs": [
    {
     "name": "stdout",
     "output_type": "stream",
     "text": [
      "Ag cr REF ELEMENT T 6/12AG 1.   0.   0.   0.S   200.000  1235.080 1000.        1\n",
      "\n",
      " 2.07216824E+00 2.46393729E-03-1.34351116E-06 3.69321107E-10 0.00000000E+00    2\n",
      "\n",
      "-6.37725170E+02-7.18810718E+00 2.25225065E+00 5.43263008E-03-1.32153990E-05    3\n",
      "\n",
      " 1.50423505E-08-5.94991675E-12-8.23132027E+02-8.86835190E+00 0.00000000E+00    4\n",
      "\n"
     ]
    }
   ],
   "source": [
    "with open(\"THERM.DAT\", \"r\", encoding=\"UTF-8\") as file:\n",
    "        head = [next(file) for x in range(4)]\n",
    "        for line in head:\n",
    "            print(line)"
   ]
  },
  {
   "cell_type": "markdown",
   "id": "4707b7bd",
   "metadata": {},
   "source": [
    "### Задача: распарсить файл по принципу:\n",
    "\n",
    "`{\"Ag\" : [2.07216824E+00, 2.46393729E-03, -1.34351116E-06, 3.69321107E-10, 0.00000000E+00, -6.37725170E+02, -7.18810718E+00, 2.25225065E+00, 5.43263008E-03, -1.32153990E-05, 1.50423505E-08, -5.94991675E-12, -8.23132027E+02, -8.86835190E+00, 0.00000000E+00]}`"
   ]
  },
  {
   "cell_type": "code",
   "execution_count": 2,
   "id": "38206e66",
   "metadata": {},
   "outputs": [],
   "source": [
    "import json"
   ]
  },
  {
   "cell_type": "code",
   "execution_count": 3,
   "id": "2944b471",
   "metadata": {},
   "outputs": [],
   "source": [
    "def read_four_lines(f):\n",
    "    first = f.readline()\n",
    "    second = f.readline()\n",
    "    third = f.readline()\n",
    "    fourth = f.readline()\n",
    "    return (first, second, third, fourth)"
   ]
  },
  {
   "cell_type": "code",
   "execution_count": 4,
   "id": "5a7562ca",
   "metadata": {},
   "outputs": [],
   "source": [
    "def parse_quadruple(q):\n",
    "    element = q[0][0:q[0].index(' ')] #Надо очистить это от лишних символов (1,2-C2H2F2-cis)\n",
    "    element = element.replace(\"*\", \"\").replace(\"=\", \"\")\n",
    "    i1 = element.find(\"-\")\n",
    "    if i1 != -1:\n",
    "        element = element[i1:]\n",
    "    i2 = element.find(\"-\")\n",
    "    if i2 != -1:\n",
    "        element = element[:i2]\n",
    "    #C2H2F2\n",
    "    coefs = []\n",
    "    stride = 15\n",
    "    for i in range(1, 4):\n",
    "        for j in range(0, 5):\n",
    "            raw_data = q[i][j*stride:(j+1)*stride]\n",
    "            try:\n",
    "                data = float(raw_data)\n",
    "            except ValueError:\n",
    "                data = float(0)\n",
    "            coefs += [data]\n",
    "    element_data = {element : coefs}\n",
    "    return element_data"
   ]
  },
  {
   "cell_type": "code",
   "execution_count": 5,
   "id": "3224f4e5",
   "metadata": {},
   "outputs": [
    {
     "name": "stdout",
     "output_type": "stream",
     "text": [
      "{'Ag': [2.07216824, 0.00246393729, -1.34351116e-06, 3.69321107e-10, 0.0, -637.72517, -7.18810718, 2.25225065, 0.00543263008, -1.3215399e-05, 1.50423505e-08, -5.94991675e-12, -823.132027, -8.8683519, 0.0]}\n"
     ]
    }
   ],
   "source": [
    "with open(\"THERM.DAT\", \"r\", encoding=\"UTF-8\") as file:\n",
    "    q = read_four_lines(file)\n",
    "    print(parse_quadruple(q))"
   ]
  },
  {
   "cell_type": "code",
   "execution_count": 6,
   "id": "c7527baf",
   "metadata": {},
   "outputs": [],
   "source": [
    "result = {}\n",
    "with open(\"THERM.DAT\", \"r\", encoding=\"UTF-8\") as file:\n",
    "    for i in range(0, 2972): #Я вручную посчитал сколько там должно быть элементов\n",
    "        q = read_four_lines(file)\n",
    "        buf = parse_quadruple(q)\n",
    "        result.update(buf)\n",
    "parsed_to_json = json.dumps(result, indent=4)"
   ]
  },
  {
   "cell_type": "code",
   "execution_count": 7,
   "id": "2fa176a7",
   "metadata": {},
   "outputs": [
    {
     "name": "stdout",
     "output_type": "stream",
     "text": [
      "[2.49722745, -5.96378605e-07, 7.16732589e-09, -4.57774728e-12, 7.79345485e-16, 33521.6939, 6.58031521, 2.5, 0.0, 0.0, 0.0, 0.0, 33520.0237, 6.56281935, 34265.3987]\n"
     ]
    }
   ],
   "source": [
    "print(result[\"Ag\"])"
   ]
  },
  {
   "cell_type": "code",
   "execution_count": 8,
   "id": "dc4aae59",
   "metadata": {},
   "outputs": [],
   "source": [
    "with open(\"parsed.json\", \"w\", encoding=\"UTF-8\") as file:\n",
    "    file.write(parsed_to_json)"
   ]
  },
  {
   "cell_type": "markdown",
   "id": "b5e39678",
   "metadata": {},
   "source": [
    "### Пример - H2 + N54.63O14.67"
   ]
  },
  {
   "cell_type": "code",
   "execution_count": 9,
   "id": "6fd613bc",
   "metadata": {},
   "outputs": [],
   "source": [
    "import sys\n",
    "sys.path.insert(0,'../src/')\n",
    "from astra import *"
   ]
  },
  {
   "cell_type": "code",
   "execution_count": 10,
   "id": "043a74f6",
   "metadata": {},
   "outputs": [],
   "source": [
    "#a = Astra(components=[\"H2\", \"N54.64O14.67\"])\n",
    "a = Astra(components=[\"O14.258H27.949N53.097\"])"
   ]
  },
  {
   "cell_type": "code",
   "execution_count": 11,
   "id": "f4dc9a1b",
   "metadata": {},
   "outputs": [
    {
     "name": "stdout",
     "output_type": "stream",
     "text": [
      "[('O', 14.258), ('H', 27.949), ('N', 53.097)]\n"
     ]
    }
   ],
   "source": [
    "for component in a.components:\n",
    "    print(component)"
   ]
  },
  {
   "cell_type": "code",
   "execution_count": 12,
   "id": "1135cd56",
   "metadata": {},
   "outputs": [
    {
     "name": "stdout",
     "output_type": "stream",
     "text": [
      "[('N', 53.097), ('O', 14.258), ('H', 27.949)]\n"
     ]
    }
   ],
   "source": [
    "print(a.product)"
   ]
  },
  {
   "cell_type": "code",
   "execution_count": 13,
   "id": "391dc1a2",
   "metadata": {},
   "outputs": [
    {
     "name": "stdout",
     "output_type": "stream",
     "text": [
      "{'N', 'O', 'H'}\n"
     ]
    }
   ],
   "source": [
    "print(a.product_elements)"
   ]
  },
  {
   "cell_type": "markdown",
   "id": "bb26fdbb",
   "metadata": {},
   "source": [
    "### Задача: выбрать из того файла все компоненты, у которых встречается в формуле любое из веществ выше, но нет других веществ"
   ]
  },
  {
   "cell_type": "code",
   "execution_count": 14,
   "id": "123dd4be",
   "metadata": {},
   "outputs": [],
   "source": [
    "with open(\"parsed.json\", \"r\", encoding=\"UTF-8\") as file:\n",
    "    text = file.read()\n",
    "data = json.loads(text)"
   ]
  },
  {
   "cell_type": "code",
   "execution_count": 15,
   "id": "2f2ef9e9",
   "metadata": {},
   "outputs": [
    {
     "name": "stdout",
     "output_type": "stream",
     "text": [
      "{'H'}\n",
      "{'N', 'O', 'H'}\n",
      "{'N', 'O', 'H'}\n",
      "{'N', 'O', 'H'}\n",
      "{'N', 'O', 'H'}\n",
      "{'N', 'O', 'H'}\n",
      "{'O', 'H'}\n",
      "{'O', 'H'}\n",
      "{'O', 'H'}\n",
      "{'H'}\n",
      "{'O', 'H'}\n",
      "{'O', 'H'}\n",
      "{'O', 'H'}\n",
      "{'N'}\n",
      "{'N', 'H'}\n",
      "{'N', 'O', 'H'}\n",
      "{'N', 'O', 'H'}\n",
      "{'N', 'H'}\n",
      "{'N', 'O', 'H'}\n",
      "{'N', 'O', 'H'}\n",
      "{'N', 'H'}\n",
      "{'N', 'O', 'H'}\n",
      "{'N', 'O'}\n",
      "{'N', 'O'}\n",
      "{'N', 'O'}\n",
      "{'N', 'O'}\n",
      "{'N'}\n",
      "{'N', 'H'}\n",
      "{'N', 'H'}\n",
      "{'N', 'O', 'H'}\n",
      "{'N', 'O', 'H'}\n",
      "{'N', 'H'}\n",
      "{'N', 'H'}\n",
      "{'N', 'O', 'H'}\n",
      "{'N', 'O'}\n",
      "{'N', 'O'}\n",
      "{'N', 'O', 'H'}\n",
      "{'N', 'O'}\n",
      "{'N', 'O'}\n",
      "{'N', 'O'}\n",
      "{'N'}\n",
      "{'N', 'H'}\n",
      "{'N', 'O', 'H'}\n",
      "{'N'}\n",
      "{'O'}\n",
      "{'O'}\n",
      "{'O'}\n",
      "{'O'}\n"
     ]
    }
   ],
   "source": [
    "selected_elements = []\n",
    "for key in data:\n",
    "    table_elements = set(parse_to_element_list(key))\n",
    "    my_elements = set(a.product_elements)\n",
    "    if table_elements.issubset(my_elements) and len(table_elements) != 0:\n",
    "        print(table_elements)\n",
    "        selected_elements += [key]"
   ]
  },
  {
   "cell_type": "code",
   "execution_count": 16,
   "id": "5322042b",
   "metadata": {},
   "outputs": [
    {
     "name": "stdout",
     "output_type": "stream",
     "text": [
      "['H', 'HNO', 'HNO2', 'HONO', 'HNO3', 'HNO4', 'OH', 'HO2', 'HO3', 'H2', 'H2O', 'H2O2', 'HOOOH', 'N', 'NH', 'NOH', 'HOONO', 'NH2', 'NH2O', 'HNOH', 'NH3', 'NH2OH', 'NO', 'NO2', 'NOO', 'NO3', 'N2', 'N2H', 'N2H2', 'H2N2O', 'N2H2O2', 'N2H3', 'N2H4', 'NH4NO3', 'N2O', 'N2O2', 'HN2O2', 'N2O3', 'N2O4', 'N2O5', 'N3', 'N3H', 'HN3O4', 'N4', 'O', 'O2', 'O3', 'O4']\n"
     ]
    }
   ],
   "source": [
    "print(selected_elements)"
   ]
  },
  {
   "cell_type": "code",
   "execution_count": 17,
   "id": "7e2eae27",
   "metadata": {
    "scrolled": true
   },
   "outputs": [
    {
     "name": "stdout",
     "output_type": "stream",
     "text": [
      "[[('H', 1.0)], [('H', 1.0), ('N', 1.0), ('O', 1.0)], [('H', 1.0), ('N', 1.0), ('O', 2.0)], [('H', 1.0), ('O', 2.0), ('N', 1.0)], [('H', 1.0), ('N', 1.0), ('O', 3.0)], [('H', 1.0), ('N', 1.0), ('O', 4.0)], [('O', 1.0), ('H', 1.0)], [('H', 1.0), ('O', 2.0)], [('H', 1.0), ('O', 3.0)], [('H', 2.0)], [('H', 2.0), ('O', 1.0)], [('H', 2.0), ('O', 2.0)], [('H', 2.0), ('O', 3.0)], [('N', 1.0)], [('N', 1.0), ('H', 1.0)], [('N', 1.0), ('O', 1.0), ('H', 1.0)], [('H', 1.0), ('O', 3.0), ('N', 1.0)], [('N', 1.0), ('H', 2.0)], [('N', 1.0), ('H', 2.0), ('O', 1.0)], [('H', 2.0), ('N', 1.0), ('O', 1.0)], [('N', 1.0), ('H', 3.0)], [('N', 1.0), ('H', 3.0), ('O', 1.0)], [('N', 1.0), ('O', 1.0)], [('N', 1.0), ('O', 2.0)], [('N', 1.0), ('O', 2.0)], [('N', 1.0), ('O', 3.0)], [('N', 2.0)], [('N', 2.0), ('H', 1.0)], [('N', 2.0), ('H', 2.0)], [('H', 2.0), ('N', 2.0), ('O', 1.0)], [('N', 2.0), ('H', 2.0), ('O', 2.0)], [('N', 2.0), ('H', 3.0)], [('N', 2.0), ('H', 4.0)], [('N', 2.0), ('H', 4.0), ('O', 3.0)], [('N', 2.0), ('O', 1.0)], [('N', 2.0), ('O', 2.0)], [('H', 1.0), ('N', 2.0), ('O', 2.0)], [('N', 2.0), ('O', 3.0)], [('N', 2.0), ('O', 4.0)], [('N', 2.0), ('O', 5.0)], [('N', 3.0)], [('N', 3.0), ('H', 1.0)], [('H', 1.0), ('N', 3.0), ('O', 4.0)], [('N', 4.0)], [('O', 1.0)], [('O', 2.0)], [('O', 3.0)], [('O', 4.0)]]\n"
     ]
    }
   ],
   "source": [
    "selected_elements_formulas = [parse_to_list(x) for x in selected_elements]\n",
    "print(selected_elements_formulas)"
   ]
  },
  {
   "cell_type": "markdown",
   "id": "cbb58976",
   "metadata": {},
   "source": [
    "### Задача: составить матрицу как в презентации"
   ]
  },
  {
   "cell_type": "code",
   "execution_count": 18,
   "id": "9d81cb01",
   "metadata": {},
   "outputs": [],
   "source": [
    "import numpy as np"
   ]
  },
  {
   "cell_type": "code",
   "execution_count": 19,
   "id": "892d4d85",
   "metadata": {},
   "outputs": [],
   "source": [
    "b = np.array([x[1] for x in a.product]).reshape(-1,1)"
   ]
  },
  {
   "cell_type": "code",
   "execution_count": 20,
   "id": "80ff6524",
   "metadata": {},
   "outputs": [
    {
     "data": {
      "text/plain": [
       "array([[53.097],\n",
       "       [14.258],\n",
       "       [27.949]])"
      ]
     },
     "execution_count": 20,
     "metadata": {},
     "output_type": "execute_result"
    }
   ],
   "source": [
    "b # H O N"
   ]
  },
  {
   "cell_type": "code",
   "execution_count": 21,
   "id": "aeb9ee66",
   "metadata": {},
   "outputs": [],
   "source": [
    "def find(l, value):\n",
    "    try:\n",
    "        index = l.index(value)\n",
    "    except ValueError:\n",
    "        index  = -1 \n",
    "    return index\n",
    "\n",
    "\n",
    "def make_line(component, product):\n",
    "    row = []\n",
    "    component_elements = [x[0] for x in component]\n",
    "    for element, quantity in product:\n",
    "        ind = find(component_elements, element)\n",
    "        if ind!=-1:\n",
    "            row += [component[ind][1]]\n",
    "        else:\n",
    "            row += [0]        \n",
    "    return np.array(row)\n",
    "            "
   ]
  },
  {
   "cell_type": "code",
   "execution_count": 22,
   "id": "f7288049",
   "metadata": {},
   "outputs": [
    {
     "name": "stdout",
     "output_type": "stream",
     "text": [
      "[1. 2. 1.]\n"
     ]
    }
   ],
   "source": [
    "print(make_line(selected_elements_formulas[2], a.product))"
   ]
  },
  {
   "cell_type": "code",
   "execution_count": 23,
   "id": "1b3f3daa",
   "metadata": {},
   "outputs": [],
   "source": [
    "matrix = np.array([make_line(x, a.product) for x in selected_elements_formulas]).T"
   ]
  },
  {
   "cell_type": "code",
   "execution_count": 24,
   "id": "0f65daa7",
   "metadata": {},
   "outputs": [
    {
     "name": "stdout",
     "output_type": "stream",
     "text": [
      "[[0. 1. 1. 1. 1. 1. 0. 0. 0. 0. 0. 0. 0. 1. 1. 1. 1. 1. 1. 1. 1. 1. 1. 1.\n",
      "  1. 1. 2. 2. 2. 2. 2. 2. 2. 2. 2. 2. 2. 2. 2. 2. 3. 3. 3. 4. 0. 0. 0. 0.]\n",
      " [0. 1. 2. 2. 3. 4. 1. 2. 3. 0. 1. 2. 3. 0. 0. 1. 3. 0. 1. 1. 0. 1. 1. 2.\n",
      "  2. 3. 0. 0. 0. 1. 2. 0. 0. 3. 1. 2. 2. 3. 4. 5. 0. 0. 4. 0. 1. 2. 3. 4.]\n",
      " [1. 1. 1. 1. 1. 1. 1. 1. 1. 2. 2. 2. 2. 0. 1. 1. 1. 2. 2. 2. 3. 3. 0. 0.\n",
      "  0. 0. 0. 1. 2. 2. 2. 3. 4. 4. 0. 0. 1. 0. 0. 0. 0. 1. 1. 0. 0. 0. 0. 0.]]\n"
     ]
    }
   ],
   "source": [
    "print(matrix) "
   ]
  },
  {
   "cell_type": "markdown",
   "id": "d85db73a",
   "metadata": {},
   "source": [
    "### Задача решить систему `matrix b`"
   ]
  },
  {
   "cell_type": "code",
   "execution_count": 25,
   "id": "8bb1ea2f",
   "metadata": {},
   "outputs": [],
   "source": [
    "from numpy.linalg import lstsq"
   ]
  },
  {
   "cell_type": "code",
   "execution_count": 26,
   "id": "7da0a6ce",
   "metadata": {},
   "outputs": [],
   "source": [
    "x = lstsq(matrix, b, rcond=-1)"
   ]
  },
  {
   "cell_type": "code",
   "execution_count": 27,
   "id": "5fc79713",
   "metadata": {},
   "outputs": [
    {
     "data": {
      "text/plain": [
       "(array([[ 0.02444004],\n",
       "        [ 0.41980332],\n",
       "        [ 0.25494913],\n",
       "        [ 0.25494913],\n",
       "        [ 0.09009495],\n",
       "        [-0.07475923],\n",
       "        [-0.14041415],\n",
       "        [-0.30526833],\n",
       "        [-0.47012251],\n",
       "        [ 0.04888007],\n",
       "        [-0.11597411],\n",
       "        [-0.28082829],\n",
       "        [-0.44568247],\n",
       "        [ 0.56021746],\n",
       "        [ 0.5846575 ],\n",
       "        [ 0.41980332],\n",
       "        [ 0.09009495],\n",
       "        [ 0.60909754],\n",
       "        [ 0.44424335],\n",
       "        [ 0.44424335],\n",
       "        [ 0.63353757],\n",
       "        [ 0.46868339],\n",
       "        [ 0.39536328],\n",
       "        [ 0.2305091 ],\n",
       "        [ 0.2305091 ],\n",
       "        [ 0.06565491],\n",
       "        [ 1.12043493],\n",
       "        [ 1.14487496],\n",
       "        [ 1.169315  ],\n",
       "        [ 1.00446082],\n",
       "        [ 0.83960663],\n",
       "        [ 1.19375504],\n",
       "        [ 1.21819507],\n",
       "        [ 0.72363253],\n",
       "        [ 0.95558074],\n",
       "        [ 0.79072656],\n",
       "        [ 0.8151666 ],\n",
       "        [ 0.62587238],\n",
       "        [ 0.46101819],\n",
       "        [ 0.29616401],\n",
       "        [ 1.68065239],\n",
       "        [ 1.70509243],\n",
       "        [ 1.04567569],\n",
       "        [ 2.24086985],\n",
       "        [-0.16485418],\n",
       "        [-0.32970837],\n",
       "        [-0.49456255],\n",
       "        [-0.65941673]]),\n",
       " array([], dtype=float64),\n",
       " 3,\n",
       " array([17.42929573,  9.51649753,  7.04669606]))"
      ]
     },
     "execution_count": 27,
     "metadata": {},
     "output_type": "execute_result"
    }
   ],
   "source": [
    "x"
   ]
  },
  {
   "cell_type": "code",
   "execution_count": 28,
   "id": "e02db511",
   "metadata": {},
   "outputs": [
    {
     "data": {
      "text/plain": [
       "array([[ 0.02444004],\n",
       "       [ 0.41980332],\n",
       "       [ 0.25494913],\n",
       "       [ 0.25494913],\n",
       "       [ 0.09009495],\n",
       "       [-0.07475923],\n",
       "       [-0.14041415],\n",
       "       [-0.30526833],\n",
       "       [-0.47012251],\n",
       "       [ 0.04888007],\n",
       "       [-0.11597411],\n",
       "       [-0.28082829],\n",
       "       [-0.44568247],\n",
       "       [ 0.56021746],\n",
       "       [ 0.5846575 ],\n",
       "       [ 0.41980332],\n",
       "       [ 0.09009495],\n",
       "       [ 0.60909754],\n",
       "       [ 0.44424335],\n",
       "       [ 0.44424335],\n",
       "       [ 0.63353757],\n",
       "       [ 0.46868339],\n",
       "       [ 0.39536328],\n",
       "       [ 0.2305091 ],\n",
       "       [ 0.2305091 ],\n",
       "       [ 0.06565491],\n",
       "       [ 1.12043493],\n",
       "       [ 1.14487496],\n",
       "       [ 1.169315  ],\n",
       "       [ 1.00446082],\n",
       "       [ 0.83960663],\n",
       "       [ 1.19375504],\n",
       "       [ 1.21819507],\n",
       "       [ 0.72363253],\n",
       "       [ 0.95558074],\n",
       "       [ 0.79072656],\n",
       "       [ 0.8151666 ],\n",
       "       [ 0.62587238],\n",
       "       [ 0.46101819],\n",
       "       [ 0.29616401],\n",
       "       [ 1.68065239],\n",
       "       [ 1.70509243],\n",
       "       [ 1.04567569],\n",
       "       [ 2.24086985],\n",
       "       [-0.16485418],\n",
       "       [-0.32970837],\n",
       "       [-0.49456255],\n",
       "       [-0.65941673]])"
      ]
     },
     "execution_count": 28,
     "metadata": {},
     "output_type": "execute_result"
    }
   ],
   "source": [
    "x[0]"
   ]
  },
  {
   "cell_type": "code",
   "execution_count": 29,
   "id": "6f1febef",
   "metadata": {},
   "outputs": [
    {
     "name": "stdout",
     "output_type": "stream",
     "text": [
      "[[53.097]\n",
      " [14.258]\n",
      " [27.949]]\n"
     ]
    }
   ],
   "source": [
    "print(matrix @ x[0])"
   ]
  },
  {
   "cell_type": "code",
   "execution_count": 30,
   "id": "87556e4c",
   "metadata": {},
   "outputs": [],
   "source": [
    "elements_with_concentration = [(e, float(c)) for e, c in zip(selected_elements, x[0])]"
   ]
  },
  {
   "cell_type": "code",
   "execution_count": 31,
   "id": "57bd1b2e",
   "metadata": {},
   "outputs": [
    {
     "name": "stdout",
     "output_type": "stream",
     "text": [
      "('H', 0.024440036951691724)\n",
      "('HNO', 0.41980331716086916)\n",
      "('HNO2', 0.25494913432905697)\n",
      "('HONO', 0.25494913432905697)\n",
      "('HNO3', 0.0900949514972443)\n",
      "('HNO4', -0.0747592313345684)\n",
      "('OH', -0.1404141458801208)\n",
      "('HO2', -0.3052683287119335)\n",
      "('HO3', -0.4701225115437461)\n",
      "('H2', 0.04888007390338375)\n",
      "('H2O', -0.11597410892842892)\n",
      "('H2O2', -0.2808282917602416)\n",
      "('HOOOH', -0.44568247459205423)\n",
      "('N', 0.5602174630409904)\n",
      "('NH', 0.5846574999926824)\n",
      "('NOH', 0.4198033171608696)\n",
      "('HOONO', 0.0900949514972443)\n",
      "('NH2', 0.6090975369443742)\n",
      "('NH2O', 0.4442433541125615)\n",
      "('HNOH', 0.4442433541125615)\n",
      "('NH3', 0.633537573896066)\n",
      "('NH2OH', 0.4686833910642534)\n",
      "('NO', 0.3953632802091777)\n",
      "('NO2', 0.23050909737736508)\n",
      "('NOO', 0.23050909737736508)\n",
      "('NO3', 0.0656549145455524)\n",
      "('N2', 1.1204349260819808)\n",
      "('N2H', 1.1448749630336728)\n",
      "('N2H2', 1.1693149999853647)\n",
      "('H2N2O', 1.0044608171535518)\n",
      "('N2H2O2', 0.8396066343217392)\n",
      "('N2H3', 1.1937550369370564)\n",
      "('N2H4', 1.2181950738887484)\n",
      "('NH4NO3', 0.7236325253933102)\n",
      "('N2O', 0.9555807432501682)\n",
      "('N2O2', 0.7907265604183554)\n",
      "('HN2O2', 0.8151665973700474)\n",
      "('N2O3', 0.6258723775865428)\n",
      "('N2O4', 0.46101819475473016)\n",
      "('N2O5', 0.2961640119229174)\n",
      "('N3', 1.6806523891229714)\n",
      "('N3H', 1.7050924260746632)\n",
      "('HN3O4', 1.0456756947474126)\n",
      "('N4', 2.2408698521639616)\n",
      "('O', -0.1648541828318127)\n",
      "('O2', -0.3297083656636254)\n",
      "('O3', -0.494562548495438)\n",
      "('O4', -0.6594167313272508)\n"
     ]
    }
   ],
   "source": [
    "for ewc in elements_with_concentration:\n",
    "    print(ewc)"
   ]
  },
  {
   "cell_type": "markdown",
   "id": "89ebe717",
   "metadata": {},
   "source": [
    "### Итоги"
   ]
  },
  {
   "cell_type": "markdown",
   "id": "c3366170",
   "metadata": {},
   "source": [
    "1. Файл обработан следующим образом:\n",
    "     \n",
    "     1.1 С первой строки получена формула элемента. Формула очищена от знаков `=` и `*`, а также удалено все до `-` и после него\n",
    "     \n",
    "     1.2 Для каждой следующей строки читается по 15 символов и записываются в список\n",
    "     \n",
    "     1.3 Пара формула:массив записывается в словарь\n",
    "     \n",
    "     1.4 Пункты 1.1-1.3 повторяются для каждых четверок строк в файле\n",
    "     \n",
    "     1.5 Полученный большой словарь переводится в json-строку и сохраняется в файл\n",
    "     \n",
    "     Проблемы: Не знаю, насколько правильно так обрабатывать формулу, Некоторые формулы повторяются и старые значения перезаписываются новыми\n",
    "     \n",
    "2. Решение системы уравнений происходит по следующим этапам:\n",
    "    \n",
    "    2.1 В конструктор класса Astra передается список формул\n",
    "    \n",
    "    2.2 Формулы соединяются, у одинаковых атомов складывается количество, расчета на стехиометрию пока нет\n",
    "    \n",
    "    2.3 Из файла выбираются те формулы, набор атомы которых являются подмножеством набора атомов соединенной формулы\n",
    "    \n",
    "    2.4 Для каждого атома (из набора атомов соединенной формулы) для каждой выбранной формулы находится содержание этого атома в этой формуле. Для каждой формулы получается список, который потом соединяется в матрицу размером (m, n), где m - количество формул, n - количество атомов в соединенной формуле\n",
    "    \n",
    "    2.5 Матрица транспонируется\n",
    "    \n",
    "    2.6 Аналогичное действие с нахождением количеств атомов делается с соединенной формулой\n",
    "    \n",
    "    2.7 Список количеств атомов в соединенной формуле транспонируется\n",
    "    \n",
    "    2.8 Уравнение `a @ x = b` решается решателем numpy.linalg.lstsq\n",
    "    \n",
    "    Проблемы: Не используются коэффициенты из файла, В решении есть отрицательные числа (Наверное они должны быть положительные, это же концентрации?)"
   ]
  },
  {
   "cell_type": "code",
   "execution_count": null,
   "id": "1d679762",
   "metadata": {},
   "outputs": [],
   "source": []
  }
 ],
 "metadata": {
  "kernelspec": {
   "display_name": "Python 3 (ipykernel)",
   "language": "python",
   "name": "python3"
  },
  "language_info": {
   "codemirror_mode": {
    "name": "ipython",
    "version": 3
   },
   "file_extension": ".py",
   "mimetype": "text/x-python",
   "name": "python",
   "nbconvert_exporter": "python",
   "pygments_lexer": "ipython3",
   "version": "3.10.7"
  }
 },
 "nbformat": 4,
 "nbformat_minor": 5
}
